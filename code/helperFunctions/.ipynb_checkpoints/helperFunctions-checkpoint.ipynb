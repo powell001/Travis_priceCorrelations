{
 "cells": [
  {
   "cell_type": "markdown",
   "metadata": {},
   "source": [
    "### Functions used in other scripts."
   ]
  },
  {
   "cell_type": "code",
   "execution_count": null,
   "metadata": {},
   "outputs": [],
   "source": [
    "#Standardize data, makes comparisons easier\n",
    "def scaleDF(myDF):\n",
    "    resultsStd = myDF.values #returns a numpy array\n",
    "    min_max_scaler = preprocessing.StandardScaler()\n",
    "    results_scaled = min_max_scaler.fit_transform(resultsStd)\n",
    "    myresults_scaled = pd.DataFrame(results_scaled)\n",
    "    \n",
    "    # change names of columns to the sheetnames\n",
    "    myresults_scaled.columns = myDF.columns\n",
    "    \n",
    "    # add index back in\n",
    "    indx = myDF.index\n",
    "    myresults_scaled.set_index(indx, inplace=True)\n",
    "    \n",
    "    return(myresults_scaled)"
   ]
  }
 ],
 "metadata": {
  "kernelspec": {
   "display_name": "venv python36",
   "language": "python",
   "name": "python36"
  },
  "language_info": {
   "codemirror_mode": {
    "name": "ipython",
    "version": 3
   },
   "file_extension": ".py",
   "mimetype": "text/x-python",
   "name": "python",
   "nbconvert_exporter": "python",
   "pygments_lexer": "ipython3",
   "version": "3.6.9"
  }
 },
 "nbformat": 4,
 "nbformat_minor": 4
}
