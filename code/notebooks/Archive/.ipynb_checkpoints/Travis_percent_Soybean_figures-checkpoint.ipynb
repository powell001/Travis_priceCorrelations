{
 "cells": [
  {
   "cell_type": "code",
   "execution_count": null,
   "metadata": {},
   "outputs": [],
   "source": [
    "import pandas as pd"
   ]
  },
  {
   "cell_type": "code",
   "execution_count": null,
   "metadata": {},
   "outputs": [],
   "source": [
    "def fromXLSXtoDF(sheetNames_param, xlsxData_param):\n",
    "    allDF = []\n",
    "    for i in sheetNames_param:\n",
    "        # print the sheet name (not necessary)\n",
    "        print(i)\n",
    "        # so read each sheet named \"i\", and just the first two columns 0 and 1\n",
    "        df = pd.read_excel(xlsxData_param, sheet_name=i, usecols=[0, 1])\n",
    "        # set the timestamp to the index\n",
    "        df = df.set_index(\"Timestamp\")\n",
    "        # add the dataframe to the list of dataframes\n",
    "        allDF.append(df)\n",
    "    # concatenate across rows (axis=1), use the index as key)\n",
    "    result = pd.concat(allDF, axis=1, join='outer')\n",
    "    # change names of columns to the sheetnames\n",
    "    result.columns = sheetNames\n",
    "    return(result)"
   ]
  },
  {
   "cell_type": "code",
   "execution_count": null,
   "metadata": {},
   "outputs": [],
   "source": [
    "sheetNames = [\"Soybean\", \"Soymeal\", \"Soyoil\", \"Corn\", \"DalianSBM\", \"DalianSBO\", \"BRL\", \"CNY\"]\n",
    "sheetNames = [\"Soybean\"]\n",
    "xlsxData = \"../../data/raw/Price Correlation.xlsx\"\n",
    "df = fromXLSXtoDF(sheetNames, xlsxData)\n",
    "df.head(5)"
   ]
  },
  {
   "cell_type": "code",
   "execution_count": null,
   "metadata": {},
   "outputs": [],
   "source": [
    "allDFsPerc = []\n",
    "df2 = df.iloc[::-1].pct_change(1)\n",
    "allDFsPerc.append(df2[::-1])\n",
    "\n",
    "df2 = df.iloc[::-1].pct_change(4)\n",
    "allDFsPerc.append(df2[::-1])\n",
    "\n",
    "df2 = df.iloc[::-1].pct_change(22)\n",
    "allDFsPerc.append(df2[::-1])\n",
    "\n",
    "percentChange = pd.concat(allDFsPerc, axis=1, join='inner')\n",
    "percentChange.columns = ['% Move', 'W%mv', 'Mth%mv']\n",
    "percentChange.head(5)"
   ]
  },
  {
   "cell_type": "code",
   "execution_count": null,
   "metadata": {},
   "outputs": [],
   "source": [
    "allDFsAbs = []\n",
    "df2 = df.iloc[::-1].diff(4)\n",
    "df2[::-1]\n",
    "allDFsAbs.append(df2[::-1])\n",
    "\n",
    "df2 = df.iloc[::-1].diff(22)\n",
    "allDFsAbs.append(df2[::-1])\n",
    "\n",
    "absChange = pd.concat(allDFsAbs, axis=1, join='inner')\n",
    "absChange.columns = ['Wmv', 'Mthmv']\n",
    "absChange.head(5)"
   ]
  },
  {
   "cell_type": "code",
   "execution_count": null,
   "metadata": {},
   "outputs": [],
   "source": [
    "travisDFSoybean = pd.concat([df, percentChange, absChange], axis=1, join=\"inner\")\n",
    "#order the columns\n",
    "travisDFSoybean = travisDFSoybean[['Soybean', '% Move', 'Wmv', 'W%mv', 'Mthmv', 'Mth%mv']] \n",
    "travisDFSoybean.to_csv('travisDFSoybean.csv', index = False)\n",
    "travisDFSoybean.head(5)"
   ]
  },
  {
   "cell_type": "code",
   "execution_count": null,
   "metadata": {},
   "outputs": [],
   "source": [
    "### Invert index\n",
    "df = df.reindex(index=df.index[::-1])\n",
    "df"
   ]
  },
  {
   "cell_type": "code",
   "execution_count": null,
   "metadata": {},
   "outputs": [],
   "source": [
    "\n",
    "cols_plot = ['Soybean', '% Move', 'W%mv', 'Mth%mv']\n",
    "axes = df[cols_plot].plot(marker='.', alpha=0.8, linestyle='None', figsize=(11, 9), subplots=True)\n",
    "for ax in axes: \n",
    "    ax.set_ylabel('Soybean')"
   ]
  },
  {
   "cell_type": "code",
   "execution_count": null,
   "metadata": {},
   "outputs": [],
   "source": [
    "ax = df.loc['2017', 'Soybean'].plot()\n",
    "ax.set_ylabel('Soybean Price (2017)');"
   ]
  },
  {
   "cell_type": "code",
   "execution_count": null,
   "metadata": {},
   "outputs": [],
   "source": [
    "df.index[df.index > '2017-01-02']"
   ]
  },
  {
   "cell_type": "code",
   "execution_count": null,
   "metadata": {},
   "outputs": [],
   "source": [
    "import matplotlib.pyplot as plt\n",
    "%matplotlib inline \n",
    "\n",
    "# Start and end of the date range to extract\n",
    "data_columns = [\"Soybean\"]\n",
    "df_weekly_mean = df[data_columns].resample('W').mean()\n"
   ]
  },
  {
   "cell_type": "code",
   "execution_count": null,
   "metadata": {},
   "outputs": [],
   "source": [
    "df.loc['2017-05':'2020-06', 'Soybean']\n",
    "df.head()"
   ]
  },
  {
   "cell_type": "code",
   "execution_count": null,
   "metadata": {},
   "outputs": [],
   "source": [
    "start, end = '2017-01', '2018-01'\n",
    "# Plot daily and weekly resampled time series together\n",
    "fig, ax = plt.subplots()\n",
    "ax.plot(df.loc[start:end, 'Soybean'], marker='.', linestyle='-', linewidth=0.5, label='Daily')\n",
    "ax.plot(df_weekly_mean.loc[start:end, 'Soybean'],marker='o', markersize=8, linestyle='-', label='Weekly Mean Resample')\n",
    "ax.set_ylabel('Soybeans')\n",
    "ax.legend();\n"
   ]
  },
  {
   "cell_type": "code",
   "execution_count": null,
   "metadata": {},
   "outputs": [],
   "source": []
  }
 ],
 "metadata": {
  "kernelspec": {
   "display_name": "venv python36",
   "language": "python",
   "name": "python36"
  },
  "language_info": {
   "codemirror_mode": {
    "name": "ipython",
    "version": 3
   },
   "file_extension": ".py",
   "mimetype": "text/x-python",
   "name": "python",
   "nbconvert_exporter": "python",
   "pygments_lexer": "ipython3",
   "version": "3.6.9"
  }
 },
 "nbformat": 4,
 "nbformat_minor": 4
}
