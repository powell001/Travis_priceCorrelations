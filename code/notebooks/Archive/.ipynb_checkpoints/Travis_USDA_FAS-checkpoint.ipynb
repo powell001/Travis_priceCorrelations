{
 "cells": [
  {
   "cell_type": "code",
   "execution_count": null,
   "metadata": {},
   "outputs": [],
   "source": [
    "from selenium import webdriver\n",
    "from selenium.webdriver.support.ui import Select\n",
    "\n",
    "#Initialize a Firefox webdriver\n",
    "driver = webdriver.Firefox()\n",
    "\n",
    "#Grab the web page\n",
    "driver.get(\"https://apps.fas.usda.gov/esrquery/esrq.aspx\")\n",
    "\n",
    "#Commodity\n",
    "dropdown = Select(driver.find_element_by_name(\"ctl00$MainContent$lbCommodity\"))\n",
    "dropdown.deselect_all()\n",
    "dropdown.select_by_value(\"106\")\n",
    "\n",
    "#Country\n",
    "dropdown = Select(driver.find_element_by_name(\"ctl00$MainContent$lbCountry\"))\n",
    "dropdown.deselect_all()\n",
    "dropdown.select_by_value(\"11:3570\")\n",
    "\n",
    "#Download form\n",
    "radio = driver.find_element_by_id(\"ctl00_MainContent_rblOutputType_2\")\n",
    "radio.click()\n",
    "\n",
    "button = driver.find_element_by_name(\"ctl00$MainContent$btnSubmit\")\n",
    "button.click()"
   ]
  },
  {
   "cell_type": "code",
   "execution_count": null,
   "metadata": {},
   "outputs": [],
   "source": []
  }
 ],
 "metadata": {
  "kernelspec": {
   "display_name": "venv python36",
   "language": "python",
   "name": "python36"
  },
  "language_info": {
   "name": ""
  }
 },
 "nbformat": 4,
 "nbformat_minor": 4
}
