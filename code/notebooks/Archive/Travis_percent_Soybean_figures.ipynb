{
 "cells": [
  {
   "cell_type": "code",
   "execution_count": 1,
   "metadata": {},
   "outputs": [],
   "source": [
    "import pandas as pd"
   ]
  },
  {
   "cell_type": "code",
   "execution_count": 2,
   "metadata": {},
   "outputs": [],
   "source": [
    "# Select Data\n",
    "\n",
    "def fromXLSXtoDF(sheetNames_param, xlsxData_param):\n",
    "    allDF = []\n",
    "    for i in sheetNames_param:\n",
    "        # print the sheet name (not necessary)\n",
    "        print(i)\n",
    "        # so read each sheet named \"i\", and just the first two columns 0 and 1\n",
    "        df = pd.read_excel(xlsxData_param, sheet_name=i, usecols=[0, 1])\n",
    "        # set the timestamp to the index\n",
    "        df = df.set_index(\"Timestamp\")\n",
    "        # add the dataframe to the list of dataframes\n",
    "        allDF.append(df)\n",
    "    # concatenate across rows (axis=1), use the index as key)\n",
    "    result = pd.concat(allDF, axis=1, join='outer')\n",
    "    # change names of columns to the sheetnames\n",
    "    result.columns = sheetNames\n",
    "    return(result)"
   ]
  },
  {
   "cell_type": "code",
   "execution_count": 25,
   "metadata": {},
   "outputs": [],
   "source": [
    "# Function creat Travis files\n",
    "\n",
    "def percentComm(data1, commodName_param, percent_param, change_param):\n",
    "    percentChange = pd.DataFrame()\n",
    "    allDFsPerc = []\n",
    "    for i in percent_param:\n",
    "        data2 = data1.iloc[::-1].pct_change(i)\n",
    "        allDFsPerc.append(data2[::-1])\n",
    "        \n",
    "    percentChange = pd.concat(allDFsPerc, axis=1, join='inner')\n",
    "    percentChange.columns = ['% Move', 'W%mv', 'Mth%mv']\n",
    "    \n",
    "    allDFsChange = []\n",
    "    for i in change_param:\n",
    "        data2 = data1.iloc[::-1].diff(i)\n",
    "        allDFsChange.append(data2[::-1])\n",
    "        \n",
    "    change = pd.concat(allDFsChange, axis=1, join='inner')\n",
    "    change.columns = ['Wmv', 'Mthmv']    \n",
    "   \n",
    "    travisDFSoybean = pd.concat([data1, percentChange, change], axis=1, join=\"inner\")\n",
    "    #order the columns\n",
    "    travisDFSoybean = travisDFSoybean[[commodName_param, '% Move', 'Wmv', 'W%mv', 'Mthmv', 'Mth%mv']] \n",
    "    travisDFSoybean.to_csv('travisDFSoybean.csv', index = False)\n",
    "    travisDFSoybean.head(5)\n",
    "    \n",
    "    return(travisDFSoybean)"
   ]
  },
  {
   "cell_type": "code",
   "execution_count": 27,
   "metadata": {},
   "outputs": [
    {
     "name": "stdout",
     "output_type": "stream",
     "text": [
      "Soybean\n",
      "Soymeal\n",
      "            Soybean\n",
      "Timestamp          \n",
      "2020-06-24   874.50\n",
      "2020-06-23   874.00\n",
      "2020-06-22   879.25\n",
      "2020-06-19   880.75\n",
      "2020-06-18   876.00\n",
      "...             ...\n",
      "2013-04-05  1079.00\n",
      "2013-04-04  1089.25\n",
      "2013-04-03  1097.50\n",
      "2013-04-02  1111.25\n",
      "2013-04-01  1108.00\n",
      "\n",
      "[1825 rows x 1 columns]\n",
      "            Soymeal\n",
      "Timestamp          \n",
      "2020-06-24    293.6\n",
      "2020-06-23    292.5\n",
      "2020-06-22    293.2\n",
      "2020-06-19    293.9\n",
      "2020-06-18    295.2\n",
      "...             ...\n",
      "2013-04-05    245.9\n",
      "2013-04-04    251.2\n",
      "2013-04-03    252.1\n",
      "2013-04-02    256.2\n",
      "2013-04-01    252.6\n",
      "\n",
      "[1825 rows x 1 columns]\n",
      "            Soybean    % Move    Wmv      W%mv  Mthmv    Mth%mv\n",
      "Timestamp                                                      \n",
      "2020-06-24   874.50  0.000572  -1.50 -0.001712  30.50  0.036137\n",
      "2020-06-23   874.00 -0.005971  -2.50 -0.002852  28.25  0.033402\n",
      "2020-06-22   879.25 -0.001703   6.25  0.007159  21.75  0.025364\n",
      "2020-06-19   880.75  0.005422   4.75  0.005422  27.50  0.032230\n",
      "2020-06-18   876.00 -0.000570  -3.75 -0.004263  20.25  0.023663\n",
      "...             ...       ...    ...       ...    ...       ...\n",
      "2013-04-05  1079.00 -0.009410 -29.00 -0.026173    NaN       NaN\n",
      "2013-04-04  1089.25 -0.007517    NaN       NaN    NaN       NaN\n",
      "2013-04-03  1097.50 -0.012373    NaN       NaN    NaN       NaN\n",
      "2013-04-02  1111.25  0.002933    NaN       NaN    NaN       NaN\n",
      "2013-04-01  1108.00       NaN    NaN       NaN    NaN       NaN\n",
      "\n",
      "[1825 rows x 6 columns]\n",
      "            Soymeal    % Move  Wmv      W%mv  Mthmv    Mth%mv\n",
      "Timestamp                                                    \n",
      "2020-06-24    293.6  0.003761 -1.6 -0.005420    0.6  0.002048\n",
      "2020-06-23    292.5 -0.002387 -2.4 -0.008138    1.1  0.003775\n",
      "2020-06-22    293.2 -0.002382 -2.5 -0.008455   -1.2 -0.004076\n",
      "2020-06-19    293.9 -0.004404 -3.4 -0.011436    0.4  0.001363\n",
      "2020-06-18    295.2  0.001017 -2.7 -0.009063    1.2  0.004082\n",
      "...             ...       ...  ...       ...    ...       ...\n",
      "2013-04-05    245.9 -0.021099 -6.7 -0.026524    NaN       NaN\n",
      "2013-04-04    251.2 -0.003570  NaN       NaN    NaN       NaN\n",
      "2013-04-03    252.1 -0.016003  NaN       NaN    NaN       NaN\n",
      "2013-04-02    256.2  0.014252  NaN       NaN    NaN       NaN\n",
      "2013-04-01    252.6       NaN  NaN       NaN    NaN       NaN\n",
      "\n",
      "[1825 rows x 6 columns]\n"
     ]
    }
   ],
   "source": [
    "#which commodities\n",
    "sheetNames = [\"Soybean\", \"Soymeal\", \"Soyoil\", \"Corn\", \"DalianSBM\", \"DalianSBO\", \"BRL\", \"CNY\"]\n",
    "sheetNames = [\"Soybean\", \"Soymeal\"]\n",
    "\n",
    "#select data from .xlsx sheet\n",
    "xlsxData = \"../../data/raw/Price Correlation.xlsx\"\n",
    "df = fromXLSXtoDF(sheetNames, xlsxData)\n",
    "df.head(5)\n",
    "\n",
    "#create Travis data\n",
    "percentAllComm = []\n",
    "percentDiffs = [1,4,22]\n",
    "diffs = [4,22]\n",
    "for i in sheetNames:   \n",
    "    commod1 = df[[i]]\n",
    "    print(commod1)\n",
    "    data3 = percentComm(commod1, i, percentDiffs, diffs)\n",
    "    percentAllComm.append(data3)\n",
    "    \n",
    "print(percentAllComm[0])      \n",
    "print(percentAllComm[1])    \n",
    "    "
   ]
  },
  {
   "cell_type": "code",
   "execution_count": null,
   "metadata": {},
   "outputs": [],
   "source": [
    "allDFsPerc = []\n",
    "df2 = df.iloc[::-1].pct_change(1)\n",
    "allDFsPerc.append(df2[::-1])\n",
    "\n",
    "df2 = df.iloc[::-1].pct_change(4)\n",
    "allDFsPerc.append(df2[::-1])\n",
    "\n",
    "df2 = df.iloc[::-1].pct_change(22)\n",
    "allDFsPerc.append(df2[::-1])\n",
    "\n",
    "percentChange = pd.concat(allDFsPerc, axis=1, join='inner')\n",
    "percentChange.columns = ['% Move', 'W%mv', 'Mth%mv']\n",
    "percentChange.head(5)"
   ]
  },
  {
   "cell_type": "code",
   "execution_count": null,
   "metadata": {},
   "outputs": [],
   "source": [
    "allDFsAbs = []\n",
    "df2 = df.iloc[::-1].diff(4)\n",
    "df2[::-1]\n",
    "allDFsAbs.append(df2[::-1])\n",
    "\n",
    "df2 = df.iloc[::-1].diff(22)\n",
    "allDFsAbs.append(df2[::-1])\n",
    "\n",
    "absChange = pd.concat(allDFsAbs, axis=1, join='inner')\n",
    "absChange.columns = ['Wmv', 'Mthmv']\n",
    "absChange.head(5)"
   ]
  },
  {
   "cell_type": "code",
   "execution_count": null,
   "metadata": {},
   "outputs": [],
   "source": [
    "# Function creat Travis files\n",
    "\n",
    "def percentComm(data1, percent_param, change_param):\n",
    "    percentChange = pd.DataFrame()\n",
    "    allDFsPerc = []\n",
    "    for i in percent_param:\n",
    "        data2 = data1.iloc[::-1].pct_change(i)\n",
    "        allDFsPerc.append(data2[::-1])\n",
    "        \n",
    "    percentChange = pd.concat(allDFsPerc, axis=1, join='inner')\n",
    "    percentChange.columns = ['% Move', 'W%mv', 'Mth%mv']\n",
    "    \n",
    "    allDFsChange = []\n",
    "    for i in change_param:\n",
    "        data2 = data1.iloc[::-1].diff(i)\n",
    "        allDFsChange.append(data2[::-1])\n",
    "        \n",
    "    change = pd.concat(allDFsChange, axis=1, join='inner')\n",
    "    change.columns = ['Wmv', 'Mthmv']    \n",
    "   \n",
    "    travisDFSoybean = pd.concat([data1, percentChange, change], axis=1, join=\"inner\")\n",
    "    #order the columns\n",
    "    travisDFSoybean = travisDFSoybean[['Soybean', '% Move', 'Wmv', 'W%mv', 'Mthmv', 'Mth%mv']] \n",
    "    travisDFSoybean.to_csv('travisDFSoybean.csv', index = False)\n",
    "    travisDFSoybean.head(5)\n",
    "    \n",
    "    return(travisDFSoybean)\n",
    "\n",
    "\n",
    "\n",
    "percentComm(df, [1,4,22], [4,22])"
   ]
  },
  {
   "cell_type": "code",
   "execution_count": null,
   "metadata": {},
   "outputs": [],
   "source": []
  },
  {
   "cell_type": "code",
   "execution_count": null,
   "metadata": {},
   "outputs": [],
   "source": [
    "travisDFSoybean = pd.concat([df, percentChange, absChange], axis=1, join=\"inner\")\n",
    "#order the columns\n",
    "travisDFSoybean = travisDFSoybean[['Soybean', '% Move', 'Wmv', 'W%mv', 'Mthmv', 'Mth%mv']] \n",
    "travisDFSoybean.to_csv('travisDFSoybean.csv', index = False)\n",
    "travisDFSoybean.head(5)"
   ]
  },
  {
   "cell_type": "code",
   "execution_count": null,
   "metadata": {},
   "outputs": [],
   "source": [
    "### Invert index\n",
    "travisDFSoybean = travisDFSoybean.reindex(index=travisDFSoybean.index[::-1])\n",
    "df = travisDFSoybean"
   ]
  },
  {
   "cell_type": "code",
   "execution_count": null,
   "metadata": {},
   "outputs": [],
   "source": [
    "\n",
    "cols_plot = ['Soybean', '% Move', 'W%mv', 'Mth%mv']\n",
    "axes = df[cols_plot].plot(marker='.', alpha=0.8, linestyle='None', figsize=(11, 9), subplots=True)\n",
    "for ax in axes: \n",
    "    ax.set_ylabel('Soybean')"
   ]
  },
  {
   "cell_type": "code",
   "execution_count": null,
   "metadata": {},
   "outputs": [],
   "source": [
    "ax = df.loc['2020', 'Soybean'].plot()\n",
    "ax.set_ylabel('Soybean Price (2017)');"
   ]
  },
  {
   "cell_type": "code",
   "execution_count": null,
   "metadata": {},
   "outputs": [],
   "source": [
    "df.index[df.index > '2017-01-02']"
   ]
  },
  {
   "cell_type": "code",
   "execution_count": null,
   "metadata": {},
   "outputs": [],
   "source": [
    "import matplotlib.pyplot as plt\n",
    "%matplotlib inline \n",
    "\n",
    "# Start and end of the date range to extract\n",
    "data_columns = [\"Soybean\"]\n",
    "df_weekly_mean = df[data_columns].resample('W').mean()\n"
   ]
  },
  {
   "cell_type": "code",
   "execution_count": null,
   "metadata": {},
   "outputs": [],
   "source": [
    "df.loc['2017-05':'2020-06', 'Soybean']\n",
    "df.head()"
   ]
  },
  {
   "cell_type": "code",
   "execution_count": null,
   "metadata": {},
   "outputs": [],
   "source": [
    "start, end = '2017-01', '2018-01'\n",
    "# Plot daily and weekly resampled time series together\n",
    "fig, ax = plt.subplots()\n",
    "ax.plot(df.loc[start:end, 'Soybean'], marker='.', linestyle='-', linewidth=0.5, label='Daily')\n",
    "ax.plot(df_weekly_mean.loc[start:end, 'Soybean'],marker='o', markersize=8, linestyle='-', label='Weekly Mean Resample')\n",
    "ax.set_ylabel('Soybeans')\n",
    "ax.legend();\n"
   ]
  },
  {
   "cell_type": "code",
   "execution_count": null,
   "metadata": {},
   "outputs": [],
   "source": []
  }
 ],
 "metadata": {
  "kernelspec": {
   "display_name": "venv python36",
   "language": "python",
   "name": "python36"
  },
  "language_info": {
   "codemirror_mode": {
    "name": "ipython",
    "version": 3
   },
   "file_extension": ".py",
   "mimetype": "text/x-python",
   "name": "python",
   "nbconvert_exporter": "python",
   "pygments_lexer": "ipython3",
   "version": "3.6.9"
  }
 },
 "nbformat": 4,
 "nbformat_minor": 4
}
